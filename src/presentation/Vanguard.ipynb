{
 "cells": [
  {
   "cell_type": "markdown",
   "metadata": {},
   "source": [
    "# Vanguard Horizons Capital"
   ]
  },
  {
   "cell_type": "markdown",
   "metadata": {},
   "source": [
    "[![](https://mermaid.ink/img/pako:eNptkl1rwjAUhv9KOFcV7KRVb8oQqjJwjCFLYReJF9GmtdgmJU0QEf_7ElNnGUsh5LznOTkf6RUOMueQQKlYe0QfX1Qgu_zemb2X067j-q2WZ6-7lZJgvRztBsJrGC7SiKTbzVCNyQRXjamZlmqy84x3c5H7QxqF4T0DcimQvcBSOFpQ2IiSd7qSAgV5rUcU7M3uc1FZ5KjYUplioiukaliP7nvUYTi2WBY_436bWknRmaZ1Mc96synZyjNXaDnsIpuRd9NetNU_peZ7KU9D75ykD_reVF_gPfN0aMwexmv4Ys35A_1TGZbiXNTsxAc5IhJQwEJ6BwrW3yOENSsrUVIYvkMW_0OujGKa50-yr7OfkRtlFsEYGm6nWOX2f7g6FwV95A2nkNhjzgtmak2BiptFmdESX8QBEq0MH4Npc5tiXTHbQwNJweqO334AYiWxuw?type=png)](https://mermaid.live/edit#pako:eNptkl1rwjAUhv9KOFcV7KRVb8oQqjJwjCFLYReJF9GmtdgmJU0QEf_7ElNnGUsh5LznOTkf6RUOMueQQKlYe0QfX1Qgu_zemb2X067j-q2WZ6-7lZJgvRztBsJrGC7SiKTbzVCNyQRXjamZlmqy84x3c5H7QxqF4T0DcimQvcBSOFpQ2IiSd7qSAgV5rUcU7M3uc1FZ5KjYUplioiukaliP7nvUYTi2WBY_436bWknRmaZ1Mc96synZyjNXaDnsIpuRd9NetNU_peZ7KU9D75ykD_reVF_gPfN0aMwexmv4Ys35A_1TGZbiXNTsxAc5IhJQwEJ6BwrW3yOENSsrUVIYvkMW_0OujGKa50-yr7OfkRtlFsEYGm6nWOX2f7g6FwV95A2nkNhjzgtmak2BiptFmdESX8QBEq0MH4Npc5tiXTHbQwNJweqO334AYiWxuw)"
   ]
  },
  {
   "cell_type": "markdown",
   "metadata": {},
   "source": [
    "\n",
    "\n"
   ]
  },
  {
   "cell_type": "markdown",
   "metadata": {},
   "source": []
  }
 ],
 "metadata": {
  "language_info": {
   "name": "python"
  }
 },
 "nbformat": 4,
 "nbformat_minor": 2
}
