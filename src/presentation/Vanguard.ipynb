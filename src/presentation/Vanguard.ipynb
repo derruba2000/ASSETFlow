{
 "cells": [
  {
   "cell_type": "markdown",
   "metadata": {},
   "source": [
    "# Vanguard Horizons Capital"
   ]
  },
  {
   "cell_type": "markdown",
   "metadata": {},
   "source": [
    "[![](https://mermaid.ink/img/pako:eNptkV9rwjAUxb9KuE8t2EGrvpQhVGXgkE3Wwh4aH6K51mKblDRBRPzuS__NMpan3nt-J_f05g5HyRFCyBSrzmT7RQWxJ0qdqK5RvxXySrafS3dPRa94XquQVop2G89bxP6CwkZkWOtcCuLwQrsUWktnSvyGCiyVKCbqk1Ql69FDjzZYHFgsCZ6-2hy6XCspalNWjadT2lun6U5eUZHlZj_qztJ3U9207X9IjQcpL2N1nkYDjYL_BmwnT8fFbChevRdbzgf0T7JYiuupYBcczfBTh0IsZCcQZ_3tklizLBcZBXecJviHXBnFNPIn2efsd9SsMvFhAiXaLebcvt29kSjoM5ZIIbSfHE_MFJoCFQ-LMqNlfBNHCLUyOAFTcTtinTP7D2XXfPwAHiicMw?type=png)](https://mermaid.live/edit#pako:eNptkV9rwjAUxb9KuE8t2EGrvpQhVGXgkE3Wwh4aH6K51mKblDRBRPzuS__NMpan3nt-J_f05g5HyRFCyBSrzmT7RQWxJ0qdqK5RvxXySrafS3dPRa94XquQVop2G89bxP6CwkZkWOtcCuLwQrsUWktnSvyGCiyVKCbqk1Ql69FDjzZYHFgsCZ6-2hy6XCspalNWjadT2lun6U5eUZHlZj_qztJ3U9207X9IjQcpL2N1nkYDjYL_BmwnT8fFbChevRdbzgf0T7JYiuupYBcczfBTh0IsZCcQZ_3tklizLBcZBXecJviHXBnFNPIn2efsd9SsMvFhAiXaLebcvt29kSjoM5ZIIbSfHE_MFJoCFQ-LMqNlfBNHCLUyOAFTcTtinTP7D2XXfPwAHiicMw)"
   ]
  },
  {
   "cell_type": "markdown",
   "metadata": {},
   "source": [
    "-> Ingestion dlt\n",
    "-> dbt\n",
    "    -> Lineage\n",
    "    -> Unit Testing\n",
    "\n"
   ]
  },
  {
   "cell_type": "markdown",
   "metadata": {},
   "source": []
  }
 ],
 "metadata": {
  "language_info": {
   "name": "python"
  }
 },
 "nbformat": 4,
 "nbformat_minor": 2
}
